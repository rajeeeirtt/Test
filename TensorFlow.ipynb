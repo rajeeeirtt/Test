import tensorflow as tf
import tensorflow_hub as hub
import matplotlib.pyplot as plt
import numpy as np
import os
import pandas as pd
import re
import seaborn as sns

# load a csv
CSV_PATH = 'sample_data/Insight-Horizon-Scanning-Data-TRAIN.csv'
dataset = tf.data.experimental.make_csv_dataset(CSV_PATH, batch_size=32)
#iter = dataset.make_one_shot_iterator()
#next = iter.get_next()
#print(next) # next is a dict with key=columns names and value=column data
#Description, Category = next['Description'], next['Category']

with  tf.Session() as sess:
    print(sess.run([Description, Category]))
